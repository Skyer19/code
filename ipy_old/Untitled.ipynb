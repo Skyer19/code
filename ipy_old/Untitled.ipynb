{
 "cells": [
  {
   "cell_type": "code",
   "execution_count": 11,
   "id": "ae014643-b06f-4760-ad8c-269132cd50fd",
   "metadata": {},
   "outputs": [
    {
     "name": "stdout",
     "output_type": "stream",
     "text": [
      "Logits: tensor([[ 0.1460,  0.1643],\n",
      "        [ 0.1175,  0.1653],\n",
      "        [ 0.0888,  0.1147],\n",
      "        [-0.5661, -0.3051],\n",
      "        [ 0.0424,  0.1226],\n",
      "        [ 0.1516,  0.0336],\n",
      "        [ 0.0943,  0.1444],\n",
      "        [ 0.1020,  0.1615]], grad_fn=<AddmmBackward0>)\n",
      "labels: tensor([0, 1, 0, 0, 0, 0, 0, 0])\n",
      "Loss: 0.7152491807937622\n",
      "Probabilities: tensor([[0.4954, 0.5046],\n",
      "        [0.4881, 0.5119],\n",
      "        [0.4935, 0.5065],\n",
      "        [0.4351, 0.5649],\n",
      "        [0.4800, 0.5200],\n",
      "        [0.5295, 0.4705],\n",
      "        [0.4875, 0.5125],\n",
      "        [0.4851, 0.5149]], grad_fn=<SoftmaxBackward0>)\n",
      "Predicted Classes: tensor([1, 1, 1, 1, 1, 0, 1, 1])\n",
      "True Labels: tensor([0, 1, 0, 0, 0, 0, 0, 0])\n",
      "preds:  [1 1 1 1 1 0 1 1]\n"
     ]
    }
   ],
   "source": [
    "import torch\n",
    "import torch.nn as nn\n",
    "import torch.optim as optim\n",
    "\n",
    "# 定义简单的模型\n",
    "class SimpleModel(nn.Module):\n",
    "    def __init__(self, input_dim, hidden_dim, output_dim):\n",
    "        super(SimpleModel, self).__init__()\n",
    "        self.fc1 = nn.Linear(input_dim, hidden_dim)\n",
    "        self.fc2 = nn.Linear(hidden_dim, output_dim)\n",
    "        \n",
    "    def forward(self, x):\n",
    "        x = torch.relu(self.fc1(x))\n",
    "        x = self.fc2(x)\n",
    "        return x\n",
    "\n",
    "# 定义模型参数\n",
    "input_dim = 10\n",
    "hidden_dim = 5\n",
    "output_dim = 2  # 二分类任务的输出维度（两个类别）\n",
    "batch_size = 8  # 假设我们有8个样本\n",
    "\n",
    "# 创建模型、损失函数和优化器\n",
    "model = SimpleModel(input_dim, hidden_dim, output_dim)\n",
    "criterion = nn.CrossEntropyLoss()\n",
    "optimizer = optim.Adam(model.parameters(), lr=0.001)\n",
    "\n",
    "# 生成示例数据\n",
    "inputs = torch.randn(batch_size, input_dim)\n",
    "labels = torch.randint(0, 2, (batch_size,))  # 标签为 0 或 1\n",
    "\n",
    "# 前向传播\n",
    "outputs = model(inputs)\n",
    "\n",
    "# 打印 logits\n",
    "print(f'Logits: {outputs}')\n",
    "\n",
    "print(f'labels: {labels}')\n",
    "# 计算损失\n",
    "loss = criterion(outputs, labels)\n",
    "\n",
    "# 后向传播和优化\n",
    "loss.backward()\n",
    "optimizer.step()\n",
    "\n",
    "# 打印结果\n",
    "print(f'Loss: {loss.item()}')\n",
    "\n",
    "# 将 logits 转换为概率\n",
    "probabilities = torch.softmax(outputs, dim=1)\n",
    "print(f'Probabilities: {probabilities}')\n",
    "\n",
    "# 预测类别\n",
    "predicted_classes = torch.argmax(probabilities, dim=1)\n",
    "print(f'Predicted Classes: {predicted_classes}')\n",
    "print(f'True Labels: {labels}')\n",
    "\n",
    "preds = outputs.argmax(1).cpu().numpy()\n",
    "print(\"preds: \",preds)\n"
   ]
  },
  {
   "cell_type": "code",
   "execution_count": null,
   "id": "1b4f94fe-6ecb-43f2-bbc5-a42313bc6aa6",
   "metadata": {},
   "outputs": [],
   "source": []
  },
  {
   "cell_type": "code",
   "execution_count": 13,
   "id": "76c751b9-df5e-4054-b935-8d85abc64cf4",
   "metadata": {},
   "outputs": [],
   "source": [
    "import numpy as np\n",
    "import sys\n",
    "from anndata import AnnData\n",
    "import scanpy as sc\n",
    "sc.settings.verbosity = 'info'\n",
    "sc.settings.logfile = sys.stdout  # for doctests\n",
    "np.set_printoptions(precision=2)\n",
    "adata = AnnData(np.array([\n",
    "         [3, 3, 3, 6, 6],\n",
    "    [1, 1, 1, 2, 2],\n",
    "     [1, 22, 1, 2, 2],\n",
    "     ], dtype='float32'))\n"
   ]
  },
  {
   "cell_type": "code",
   "execution_count": 14,
   "id": "0bce8554-c860-4fc8-8f56-1066af497ef1",
   "metadata": {},
   "outputs": [
    {
     "data": {
      "text/plain": [
       "array([[ 3.,  3.,  3.,  6.,  6.],\n",
       "       [ 1.,  1.,  1.,  2.,  2.],\n",
       "       [ 1., 22.,  1.,  2.,  2.]], dtype=float32)"
      ]
     },
     "execution_count": 14,
     "metadata": {},
     "output_type": "execute_result"
    }
   ],
   "source": [
    "adata.X"
   ]
  },
  {
   "cell_type": "code",
   "execution_count": 17,
   "id": "2bb900db-e3fa-40e6-a6a1-4a6284f88ac4",
   "metadata": {},
   "outputs": [
    {
     "name": "stdout",
     "output_type": "stream",
     "text": [
      "normalizing counts per cell\n",
      "    finished (0:00:00)\n"
     ]
    },
    {
     "data": {
      "text/plain": [
       "array([[0.43, 0.43, 0.43, 0.86, 0.86],\n",
       "       [0.43, 0.43, 0.43, 0.86, 0.86],\n",
       "       [0.11, 2.36, 0.11, 0.21, 0.21]], dtype=float32)"
      ]
     },
     "execution_count": 17,
     "metadata": {},
     "output_type": "execute_result"
    }
   ],
   "source": [
    "X_norm = sc.pp.normalize_total(adata, target_sum=3, inplace=False)['X']\n",
    "X_norm"
   ]
  },
  {
   "cell_type": "code",
   "execution_count": 20,
   "id": "b4c08bf0-625b-4798-8880-1730042bb9dd",
   "metadata": {},
   "outputs": [
    {
     "data": {
      "text/plain": [
       "3.0"
      ]
     },
     "execution_count": 20,
     "metadata": {},
     "output_type": "execute_result"
    }
   ],
   "source": [
    "np.sum(X_norm[1])"
   ]
  },
  {
   "cell_type": "code",
   "execution_count": 26,
   "id": "9100cc27-6a72-4e22-8c8f-7c22f9d2317d",
   "metadata": {},
   "outputs": [
    {
     "ename": "NameError",
     "evalue": "name '_digitize' is not defined",
     "output_type": "error",
     "traceback": [
      "\u001b[0;31m---------------------------------------------------------------------------\u001b[0m",
      "\u001b[0;31mNameError\u001b[0m                                 Traceback (most recent call last)",
      "Cell \u001b[0;32mIn[26], line 25\u001b[0m\n\u001b[1;32m     21\u001b[0m bins \u001b[38;5;241m=\u001b[39m np\u001b[38;5;241m.\u001b[39mquantile(non_zero_row, np\u001b[38;5;241m.\u001b[39mlinspace(\u001b[38;5;241m0\u001b[39m, \u001b[38;5;241m1\u001b[39m, n_bins \u001b[38;5;241m-\u001b[39m \u001b[38;5;241m1\u001b[39m))\n\u001b[1;32m     22\u001b[0m \u001b[38;5;66;03m# bins = np.sort(np.unique(bins))\u001b[39;00m\n\u001b[1;32m     23\u001b[0m \u001b[38;5;66;03m# NOTE: comment this line for now, since this will make the each category\u001b[39;00m\n\u001b[1;32m     24\u001b[0m \u001b[38;5;66;03m# has different relative meaning across datasets\u001b[39;00m\n\u001b[0;32m---> 25\u001b[0m non_zero_digits \u001b[38;5;241m=\u001b[39m \u001b[43m_digitize\u001b[49m(non_zero_row, bins)\n\u001b[1;32m     26\u001b[0m \u001b[38;5;28;01massert\u001b[39;00m non_zero_digits\u001b[38;5;241m.\u001b[39mmin() \u001b[38;5;241m>\u001b[39m\u001b[38;5;241m=\u001b[39m \u001b[38;5;241m1\u001b[39m\n\u001b[1;32m     27\u001b[0m \u001b[38;5;28;01massert\u001b[39;00m non_zero_digits\u001b[38;5;241m.\u001b[39mmax() \u001b[38;5;241m<\u001b[39m\u001b[38;5;241m=\u001b[39m n_bins \u001b[38;5;241m-\u001b[39m \u001b[38;5;241m1\u001b[39m\n",
      "\u001b[0;31mNameError\u001b[0m: name '_digitize' is not defined"
     ]
    }
   ],
   "source": [
    "binning = 3\n",
    "\n",
    "n_bins = binning  # NOTE: the first bin is always a spectial for zero\n",
    "binned_rows = []\n",
    "bin_edges = []\n",
    "\n",
    "layer_data = X_norm\n",
    "# layer_data = layer_data.A if issparse(layer_data) else layer_data\n",
    "if layer_data.min() < 0:\n",
    "    raise ValueError(\n",
    "        f\"Assuming non-negative data, but got min value {layer_data.min()}.\"\n",
    "    )\n",
    "for row in layer_data:\n",
    "    if row.max() == 0:\n",
    "        print(111)\n",
    "        binned_rows.append(np.zeros_like(row, dtype=np.int64))\n",
    "        bin_edges.append(np.array([0] * n_bins))\n",
    "        continue\n",
    "    non_zero_ids = row.nonzero()\n",
    "    non_zero_row = row[non_zero_ids]\n",
    "    bins = np.quantile(non_zero_row, np.linspace(0, 1, n_bins - 1))\n",
    "    # bins = np.sort(np.unique(bins))\n",
    "    # NOTE: comment this line for now, since this will make the each category\n",
    "    # has different relative meaning across datasets\n",
    "    non_zero_digits = _digitize(non_zero_row, bins)\n",
    "    assert non_zero_digits.min() >= 1\n",
    "    assert non_zero_digits.max() <= n_bins - 1\n",
    "    binned_row = np.zeros_like(row, dtype=np.int64)\n",
    "    binned_row[non_zero_ids] = non_zero_digits\n",
    "    binned_rows.append(binned_row)\n",
    "    bin_edges.append(np.concatenate([[0], bins]))\n",
    "adata.layers[self.result_binned_key] = np.stack(binned_rows)\n",
    "adata.obsm[\"bin_edges\"] = np.stack(bin_edges)"
   ]
  },
  {
   "cell_type": "code",
   "execution_count": 25,
   "id": "daecce3a-74dd-4c73-93f2-ebc8b675c99d",
   "metadata": {},
   "outputs": [
    {
     "data": {
      "text/plain": [
       "AnnData object with n_obs × n_vars = 3 × 5"
      ]
     },
     "execution_count": 25,
     "metadata": {},
     "output_type": "execute_result"
    }
   ],
   "source": [
    "adata"
   ]
  },
  {
   "cell_type": "code",
   "execution_count": null,
   "id": "cb3b8dbd-b9d8-4b37-b88e-3ebe9c5c7dc6",
   "metadata": {},
   "outputs": [],
   "source": []
  }
 ],
 "metadata": {
  "kernelspec": {
   "display_name": "Python (scgpt)",
   "language": "python",
   "name": "scgpt"
  },
  "language_info": {
   "codemirror_mode": {
    "name": "ipython",
    "version": 3
   },
   "file_extension": ".py",
   "mimetype": "text/x-python",
   "name": "python",
   "nbconvert_exporter": "python",
   "pygments_lexer": "ipython3",
   "version": "3.9.19"
  }
 },
 "nbformat": 4,
 "nbformat_minor": 5
}
