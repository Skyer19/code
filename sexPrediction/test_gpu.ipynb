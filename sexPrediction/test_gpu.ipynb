{
 "cells": [
  {
   "cell_type": "code",
   "execution_count": 4,
   "metadata": {},
   "outputs": [],
   "source": [
    "import time\n",
    "from pynvml import nvmlDeviceGetHandleByIndex, nvmlDeviceGetMemoryInfo\n",
    "import subprocess"
   ]
  },
  {
   "cell_type": "code",
   "execution_count": 5,
   "metadata": {},
   "outputs": [],
   "source": [
    "# 初始化NVML\n",
    "nvmlInit()\n",
    "\n",
    "def check_gpu_memory(threshold_memory_mb, gpu_index=0):\n",
    "    \"\"\"\n",
    "    检查指定GPU是否有足够的空闲内存。\n",
    "\n",
    "    参数:\n",
    "        threshold_memory_mb (int): 程序运行所需的最小空闲内存，单位为MB。\n",
    "        gpu_index (int): 要检查的GPU编号，默认为0。\n",
    "\n",
    "    返回:\n",
    "        bool: 如果可用内存足够返回True，否则返回False。\n",
    "    \"\"\"\n",
    "    handle = nvmlDeviceGetHandleByIndex(gpu_index)\n",
    "    info = nvmlDeviceGetMemoryInfo(handle)\n",
    "    free_memory_mb = info.free / 1024**2\n",
    "    \n",
    "    print(f\"GPU {gpu_index}: Total: {info.total / 1024**2:.2f} MB, \"\n",
    "          f\"Used: {info.used / 1024**2:.2f} MB, \"\n",
    "          f\"Free: {free_memory_mb:.2f} MB\")\n",
    "    \n",
    "    return free_memory_mb >= threshold_memory_mb"
   ]
  },
  {
   "cell_type": "code",
   "execution_count": 8,
   "metadata": {},
   "outputs": [
    {
     "name": "stdout",
     "output_type": "stream",
     "text": [
      "GPU 0: Total: 81920.00 MB, Used: 64969.38 MB, Free: 16950.62 MB\n"
     ]
    },
    {
     "data": {
      "text/plain": [
       "True"
      ]
     },
     "execution_count": 8,
     "metadata": {},
     "output_type": "execute_result"
    }
   ],
   "source": [
    "check_gpu_memory(111)"
   ]
  },
  {
   "cell_type": "code",
   "execution_count": 6,
   "metadata": {},
   "outputs": [],
   "source": [
    "def run_program_if_memory_available(command, threshold_memory_mb, gpu_index=0, wait_time_sec=10):\n",
    "    \"\"\"\n",
    "    当GPU内存足够时运行指定的程序。\n",
    "\n",
    "    参数:\n",
    "        command (str): 要运行的程序命令。\n",
    "        threshold_memory_mb (int): 程序运行所需的最小空闲内存，单位为MB。\n",
    "        gpu_index (int): 要检查的GPU编号，默认为0。\n",
    "        wait_time_sec (int): 内存不足时的等待时间，单位为秒，默认为10秒。\n",
    "    \"\"\"\n",
    "    while not check_gpu_memory(threshold_memory_mb, gpu_index):\n",
    "        print(f\"Insufficient GPU memory for command '{command}'. Waiting for {wait_time_sec} seconds...\")\n",
    "        time.sleep(wait_time_sec)\n",
    "    \n",
    "    print(f\"Running command: {command}\")\n",
    "    subprocess.run(command, shell=True)\n"
   ]
  },
  {
   "cell_type": "code",
   "execution_count": null,
   "metadata": {},
   "outputs": [],
   "source": [
    "for program in programs_to_run:\n",
    "    run_program_if_memory_available(\n",
    "        command=program[\"command\"],\n",
    "        threshold_memory_mb=program[\"memory_required_mb\"],\n",
    "        gpu_index=0,  # 可根据需要指定不同的GPU\n",
    "        wait_time_sec=10\n",
    "    )"
   ]
  }
 ],
 "metadata": {
  "kernelspec": {
   "display_name": "scgpt",
   "language": "python",
   "name": "python3"
  },
  "language_info": {
   "codemirror_mode": {
    "name": "ipython",
    "version": 3
   },
   "file_extension": ".py",
   "mimetype": "text/x-python",
   "name": "python",
   "nbconvert_exporter": "python",
   "pygments_lexer": "ipython3",
   "version": "3.9.19"
  }
 },
 "nbformat": 4,
 "nbformat_minor": 2
}
