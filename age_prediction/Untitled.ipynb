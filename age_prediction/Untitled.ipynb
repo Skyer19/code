{
 "cells": [
  {
   "cell_type": "code",
   "execution_count": 8,
   "id": "16d1279f-6e3a-4eab-bb7b-c30fe0106061",
   "metadata": {},
   "outputs": [],
   "source": [
    "import scanpy as sc\n",
    "import numpy as np\n",
    "import torch"
   ]
  },
  {
   "cell_type": "code",
   "execution_count": 2,
   "id": "0563193f-0187-4eaf-b188-81f4e9218a03",
   "metadata": {},
   "outputs": [
    {
     "name": "stdout",
     "output_type": "stream",
     "text": [
      "(8704, 2919)\n",
      "(3731, 2919)\n"
     ]
    }
   ],
   "source": [
    "adata = sc.read(\"/data/mr423/project/data/3-OLINK_data_sub_train_new.h5ad\")\n",
    "adata_test = sc.read(\"/data/mr423/project/data/3-OLINK_data_sub_test_new.h5ad\")\n",
    "\n",
    "print(adata.shape)\n",
    "print(adata_test.shape)"
   ]
  },
  {
   "cell_type": "code",
   "execution_count": 6,
   "id": "2d9c06aa-6a97-404d-aef8-5accd1a7b8e3",
   "metadata": {},
   "outputs": [
    {
     "data": {
      "text/plain": [
       "array([60.06023272, 65.74401095, 66.71868583, ..., 59.79466119,\n",
       "       48.39425051, 67.50444901])"
      ]
     },
     "execution_count": 6,
     "metadata": {},
     "output_type": "execute_result"
    }
   ],
   "source": [
    "age = adata.obs[\"age\"].tolist()\n",
    "age = np.array(age)\n",
    "age"
   ]
  },
  {
   "cell_type": "code",
   "execution_count": 14,
   "id": "1908c6c5-d632-4ae7-9f5f-fe6a0faefeca",
   "metadata": {},
   "outputs": [
    {
     "ename": "NameError",
     "evalue": "name 'dtype' is not defined",
     "output_type": "error",
     "traceback": [
      "\u001b[0;31m---------------------------------------------------------------------------\u001b[0m",
      "\u001b[0;31mNameError\u001b[0m                                 Traceback (most recent call last)",
      "Cell \u001b[0;32mIn[14], line 2\u001b[0m\n\u001b[1;32m      1\u001b[0m tensor_age_valid \u001b[38;5;241m=\u001b[39m torch\u001b[38;5;241m.\u001b[39mfrom_numpy(age)\u001b[38;5;241m.\u001b[39mint()\u001b[38;5;241m.\u001b[39mfloat()\n\u001b[0;32m----> 2\u001b[0m \u001b[43mdtype\u001b[49m(tensor_age_valid)\n",
      "\u001b[0;31mNameError\u001b[0m: name 'dtype' is not defined"
     ]
    }
   ],
   "source": [
    "tensor_age_valid = torch.from_numpy(age).int().float()\n",
    "dtype(tensor_age_valid)"
   ]
  },
  {
   "cell_type": "code",
   "execution_count": null,
   "id": "d62785bb-7a56-4c13-9ce4-f3644732ca7a",
   "metadata": {},
   "outputs": [],
   "source": []
  }
 ],
 "metadata": {
  "kernelspec": {
   "display_name": "Python (scgpt)",
   "language": "python",
   "name": "scgpt"
  },
  "language_info": {
   "codemirror_mode": {
    "name": "ipython",
    "version": 3
   },
   "file_extension": ".py",
   "mimetype": "text/x-python",
   "name": "python",
   "nbconvert_exporter": "python",
   "pygments_lexer": "ipython3",
   "version": "3.9.19"
  }
 },
 "nbformat": 4,
 "nbformat_minor": 5
}
