{
 "cells": [
  {
   "cell_type": "code",
   "execution_count": null,
   "id": "f574ccbe-7177-49e6-ae0d-96f0e722760e",
   "metadata": {},
   "outputs": [],
   "source": [
    "import numpy as np\n",
    "import pandas as pd\n",
    "from sklearn.model_selection import train_test_split\n",
    "from sklearn.linear_model import LinearRegression, LogisticRegression\n",
    "import scanpy as sc\n",
    "from sklearn.preprocessing import StandardScaler\n",
    "from sklearn.metrics import classification_report, confusion_matrix, accuracy_score, log_loss, roc_curve, auc"
   ]
  },
  {
   "cell_type": "code",
   "execution_count": null,
   "id": "eccf03ad-65e0-4dee-864e-2266df3f4344",
   "metadata": {},
   "outputs": [],
   "source": [
    "adata = sc.read(\"/data/mr423/project/data/3-OLINK_data_train_withOutlier_all.h5ad\")\n",
    "adata_test = sc.read(\"/data/mr423/project/data/3-OLINK_data_test_withOutlier_all.h5ad\")"
   ]
  },
  {
   "cell_type": "code",
   "execution_count": null,
   "id": "4e40c7c7-3a11-4728-9fb7-75d4886eaca1",
   "metadata": {},
   "outputs": [],
   "source": [
    "adata.obs"
   ]
  },
  {
   "cell_type": "code",
   "execution_count": null,
   "id": "4cf8cf2c",
   "metadata": {},
   "outputs": [],
   "source": [
    "adata_test.obs"
   ]
  },
  {
   "cell_type": "markdown",
   "id": "4b463c64",
   "metadata": {},
   "source": [
    "### Change age group to age group label"
   ]
  },
  {
   "cell_type": "code",
   "execution_count": null,
   "id": "45415d1b",
   "metadata": {},
   "outputs": [],
   "source": [
    "age_group_mapping = {\n",
    "    '30-40': 0,\n",
    "    '40-50': 1,\n",
    "    '50-60': 2,\n",
    "    '60-70': 3,\n",
    "    '70-80': 4,\n",
    "}"
   ]
  },
  {
   "cell_type": "code",
   "execution_count": null,
   "id": "d265c852",
   "metadata": {},
   "outputs": [],
   "source": [
    "adata.obs['Age_Group_Label'] = adata.obs['Age_Group'].map(age_group_mapping)"
   ]
  },
  {
   "cell_type": "code",
   "execution_count": null,
   "id": "d9c2e717",
   "metadata": {},
   "outputs": [],
   "source": [
    "adata.obs"
   ]
  },
  {
   "cell_type": "code",
   "execution_count": null,
   "id": "ca7ac493",
   "metadata": {},
   "outputs": [],
   "source": [
    "unique_clusters = adata.obs['Age_Group'].unique()\n",
    "print(unique_clusters)\n",
    "num_clusters = len(unique_clusters)\n",
    "print(f\"Total {num_clusters} of the cluster labels.\")\n",
    "cluster_sizes = adata.obs['Age_Group'].value_counts()\n",
    "print(cluster_sizes)\n",
    "\n",
    "\n",
    "unique_clusters = adata.obs['Age_Group_Label'].unique()\n",
    "print(unique_clusters)\n",
    "num_clusters = len(unique_clusters)\n",
    "print(f\"Total {num_clusters} of the cluster labels.\")\n",
    "\n",
    "cluster_sizes = adata.obs['Age_Group_Label'].value_counts()\n",
    "print(cluster_sizes)"
   ]
  },
  {
   "cell_type": "code",
   "execution_count": null,
   "id": "782d13da",
   "metadata": {},
   "outputs": [],
   "source": [
    "adata_test.obs['Age_Group_Label'] = adata_test.obs['Age_Group'].map(age_group_mapping)"
   ]
  },
  {
   "cell_type": "code",
   "execution_count": null,
   "id": "2450683a",
   "metadata": {},
   "outputs": [],
   "source": [
    "adata_test.obs"
   ]
  },
  {
   "cell_type": "code",
   "execution_count": null,
   "id": "6bd9b0f3",
   "metadata": {},
   "outputs": [],
   "source": [
    "unique_clusters = adata_test.obs['Age_Group'].unique()\n",
    "print(unique_clusters)\n",
    "num_clusters = len(unique_clusters)\n",
    "print(f\"Total {num_clusters} of the cluster labels.\")\n",
    "cluster_sizes = adata_test.obs['Age_Group'].value_counts()\n",
    "print(cluster_sizes)\n",
    "\n",
    "\n",
    "unique_clusters = adata_test.obs['Age_Group_Label'].unique()\n",
    "print(unique_clusters)\n",
    "num_clusters = len(unique_clusters)\n",
    "print(f\"Total {num_clusters} of the cluster labels.\")\n",
    "\n",
    "cluster_sizes = adata_test.obs['Age_Group_Label'].value_counts()\n",
    "print(cluster_sizes)"
   ]
  },
  {
   "cell_type": "markdown",
   "id": "42833c16",
   "metadata": {},
   "source": [
    "### Binned Data"
   ]
  },
  {
   "cell_type": "code",
   "execution_count": null,
   "id": "d2f1e1a2-7bc9-4a8c-83c4-0fdbf595e948",
   "metadata": {},
   "outputs": [],
   "source": [
    "data = pd.read_csv(\"/data/mr423/project/data/all_train_binned_data.csv\")\n",
    "data_test = pd.read_csv(\"/data/mr423/project/data/all_test_binned_data.csv\")"
   ]
  },
  {
   "cell_type": "code",
   "execution_count": null,
   "id": "842e8954-69aa-4b21-adcf-a14df2cfee32",
   "metadata": {},
   "outputs": [],
   "source": [
    "data=data.set_index('Id')\n",
    "data_test=data_test.set_index('Id')"
   ]
  },
  {
   "cell_type": "code",
   "execution_count": null,
   "id": "5abdce93-4273-4ba5-a7cb-c0ac373d041a",
   "metadata": {},
   "outputs": [],
   "source": [
    "data"
   ]
  },
  {
   "cell_type": "code",
   "execution_count": null,
   "id": "56b41c6b-73a4-43f4-8137-f78f9b8dbf25",
   "metadata": {},
   "outputs": [],
   "source": [
    "data_test"
   ]
  },
  {
   "cell_type": "code",
   "execution_count": null,
   "id": "870cfe05",
   "metadata": {},
   "outputs": [],
   "source": [
    "# 找出索引的交集和差异\n",
    "data.index.intersection(data_test.index)"
   ]
  },
  {
   "cell_type": "code",
   "execution_count": null,
   "id": "9fa06cea-8210-47f9-a326-35d37ead4c5b",
   "metadata": {},
   "outputs": [],
   "source": [
    "y_target = adata.obs['Age_Group_Label']\n",
    "y_test = adata_test.obs['Age_Group_Label']\n",
    "\n",
    "y_test.shape\n"
   ]
  },
  {
   "cell_type": "code",
   "execution_count": null,
   "id": "4ec807db-0bfd-43ae-a381-50aeb1a95b50",
   "metadata": {},
   "outputs": [],
   "source": [
    "# # 分割数据为训练集和测试集\n",
    "X_train, X_val, y_train, y_val = train_test_split(data, y_target, test_size=0.2, random_state=0)"
   ]
  },
  {
   "cell_type": "code",
   "execution_count": null,
   "id": "f0b7b508-585e-4112-b3be-52f83861d229",
   "metadata": {},
   "outputs": [],
   "source": [
    "model = LogisticRegression(penalty=\"l1\", C=c, solver=\"liblinear\")\n",
    "model.fit(X_train, y_train)"
   ]
  },
  {
   "cell_type": "code",
   "execution_count": null,
   "id": "c295ef04",
   "metadata": {},
   "outputs": [],
   "source": [
    "actual_iterations = model.n_iter_[0]\n",
    "\n",
    "print(\"实际收敛的迭代次数: \", actual_iterations)"
   ]
  },
  {
   "cell_type": "markdown",
   "id": "7557e337",
   "metadata": {},
   "source": [
    "#### Result for train"
   ]
  },
  {
   "cell_type": "code",
   "execution_count": null,
   "id": "76e18737",
   "metadata": {},
   "outputs": [],
   "source": [
    "y_train_pred = model.predict(X_train)\n",
    "accuracy = accuracy_score(y_train, y_train_pred)\n",
    "conf_matrix = confusion_matrix(y_train, y_train_pred)\n",
    "class_report = classification_report(y_train, y_train_pred)\n",
    "\n",
    "print(f\"Validation Accuracy: {accuracy}\")\n",
    "print(\"Confusion Matrix:\\n\", conf_matrix)\n",
    "print(\"Classification Report:\\n\", class_report)"
   ]
  },
  {
   "cell_type": "code",
   "execution_count": null,
   "id": "51d9c92e",
   "metadata": {},
   "outputs": [],
   "source": [
    "y_val_pred = model.predict(X_val)\n",
    "accuracy = accuracy_score(y_val, y_val_pred)\n",
    "conf_matrix = confusion_matrix(y_val, y_val_pred)\n",
    "class_report = classification_report(y_val, y_val_pred)\n",
    "\n",
    "print(f\"Validation Accuracy: {accuracy}\")\n",
    "print(\"Confusion Matrix:\\n\", conf_matrix)\n",
    "print(\"Classification Report:\\n\", class_report)"
   ]
  },
  {
   "cell_type": "markdown",
   "id": "fdf8f7d9",
   "metadata": {},
   "source": [
    "#### Result for test"
   ]
  },
  {
   "cell_type": "code",
   "execution_count": null,
   "id": "da840166-113f-4d4c-9746-d89bd21bbc7b",
   "metadata": {},
   "outputs": [],
   "source": [
    "y_test_pred = model.predict(data_test)\n",
    "accuracy = accuracy_score(y_test, y_test_pred)\n",
    "conf_matrix = confusion_matrix(y_test, y_test_pred)\n",
    "class_report = classification_report(y_test, y_test_pred)\n",
    "\n",
    "print(f\"Validation Accuracy: {accuracy}\")\n",
    "print(\"Confusion Matrix:\\n\", conf_matrix)\n",
    "print(\"Classification Report:\\n\", class_report)"
   ]
  },
  {
   "cell_type": "code",
   "execution_count": null,
   "id": "cb78f401",
   "metadata": {},
   "outputs": [],
   "source": []
  }
 ],
 "metadata": {
  "kernelspec": {
   "display_name": "scgpt",
   "language": "python",
   "name": "python3"
  },
  "language_info": {
   "codemirror_mode": {
    "name": "ipython",
    "version": 3
   },
   "file_extension": ".py",
   "mimetype": "text/x-python",
   "name": "python",
   "nbconvert_exporter": "python",
   "pygments_lexer": "ipython3",
   "version": "3.9.19"
  }
 },
 "nbformat": 4,
 "nbformat_minor": 5
}
