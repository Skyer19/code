{
 "cells": [
  {
   "cell_type": "code",
   "execution_count": 2,
   "id": "d2d1bc5e-1700-4a6b-b2e6-249f93bdc901",
   "metadata": {},
   "outputs": [],
   "source": [
    "import pandas as pd\n",
    "import matplotlib.pyplot as plt\n",
    "import seaborn as sns\n",
    "import scanpy as sc\n",
    "import sklearn.model_selection"
   ]
  },
  {
   "cell_type": "code",
   "execution_count": 3,
   "id": "e35f2bf6-4c67-4de9-9a63-8982431223eb",
   "metadata": {},
   "outputs": [],
   "source": [
    "adata = sc.read(\"/data/mr423/project/data/3-OLINK_data_train_withOutlier_all.h5ad\")\n",
    "adata_test = sc.read(\"/data/mr423/project/data/3-OLINK_data_test_withOutlier_all.h5ad\")"
   ]
  },
  {
   "cell_type": "code",
   "execution_count": 4,
   "id": "83de6db0",
   "metadata": {},
   "outputs": [
    {
     "data": {
      "text/html": [
       "<div>\n",
       "<style scoped>\n",
       "    .dataframe tbody tr th:only-of-type {\n",
       "        vertical-align: middle;\n",
       "    }\n",
       "\n",
       "    .dataframe tbody tr th {\n",
       "        vertical-align: top;\n",
       "    }\n",
       "\n",
       "    .dataframe thead th {\n",
       "        text-align: right;\n",
       "    }\n",
       "</style>\n",
       "<table border=\"1\" class=\"dataframe\">\n",
       "  <thead>\n",
       "    <tr style=\"text-align: right;\">\n",
       "      <th></th>\n",
       "      <th>sex</th>\n",
       "      <th>DoB_Year</th>\n",
       "      <th>DoB_Month</th>\n",
       "      <th>DoB_Day</th>\n",
       "      <th>DoB</th>\n",
       "      <th>Date_Attend</th>\n",
       "      <th>age</th>\n",
       "      <th>Age_Group</th>\n",
       "    </tr>\n",
       "    <tr>\n",
       "      <th>Id</th>\n",
       "      <th></th>\n",
       "      <th></th>\n",
       "      <th></th>\n",
       "      <th></th>\n",
       "      <th></th>\n",
       "      <th></th>\n",
       "      <th></th>\n",
       "      <th></th>\n",
       "    </tr>\n",
       "  </thead>\n",
       "  <tbody>\n",
       "    <tr>\n",
       "      <th>2144829</th>\n",
       "      <td>0</td>\n",
       "      <td>1939</td>\n",
       "      <td>1</td>\n",
       "      <td>15</td>\n",
       "      <td>1939-01-15</td>\n",
       "      <td>2007-11-16</td>\n",
       "      <td>68.835044</td>\n",
       "      <td>60-70</td>\n",
       "    </tr>\n",
       "    <tr>\n",
       "      <th>3154285</th>\n",
       "      <td>0</td>\n",
       "      <td>1945</td>\n",
       "      <td>1</td>\n",
       "      <td>15</td>\n",
       "      <td>1945-01-15</td>\n",
       "      <td>2007-07-20</td>\n",
       "      <td>62.507871</td>\n",
       "      <td>60-70</td>\n",
       "    </tr>\n",
       "    <tr>\n",
       "      <th>1679423</th>\n",
       "      <td>1</td>\n",
       "      <td>1945</td>\n",
       "      <td>11</td>\n",
       "      <td>15</td>\n",
       "      <td>1945-11-15</td>\n",
       "      <td>2009-05-19</td>\n",
       "      <td>63.507187</td>\n",
       "      <td>60-70</td>\n",
       "    </tr>\n",
       "    <tr>\n",
       "      <th>1172610</th>\n",
       "      <td>1</td>\n",
       "      <td>1941</td>\n",
       "      <td>12</td>\n",
       "      <td>15</td>\n",
       "      <td>1941-12-15</td>\n",
       "      <td>2009-09-23</td>\n",
       "      <td>67.772758</td>\n",
       "      <td>60-70</td>\n",
       "    </tr>\n",
       "    <tr>\n",
       "      <th>4011532</th>\n",
       "      <td>1</td>\n",
       "      <td>1954</td>\n",
       "      <td>1</td>\n",
       "      <td>15</td>\n",
       "      <td>1954-01-15</td>\n",
       "      <td>2009-10-20</td>\n",
       "      <td>55.761807</td>\n",
       "      <td>50-60</td>\n",
       "    </tr>\n",
       "    <tr>\n",
       "      <th>...</th>\n",
       "      <td>...</td>\n",
       "      <td>...</td>\n",
       "      <td>...</td>\n",
       "      <td>...</td>\n",
       "      <td>...</td>\n",
       "      <td>...</td>\n",
       "      <td>...</td>\n",
       "      <td>...</td>\n",
       "    </tr>\n",
       "    <tr>\n",
       "      <th>1137580</th>\n",
       "      <td>1</td>\n",
       "      <td>1957</td>\n",
       "      <td>5</td>\n",
       "      <td>15</td>\n",
       "      <td>1957-05-15</td>\n",
       "      <td>2007-08-14</td>\n",
       "      <td>50.247775</td>\n",
       "      <td>50-60</td>\n",
       "    </tr>\n",
       "    <tr>\n",
       "      <th>3378384</th>\n",
       "      <td>0</td>\n",
       "      <td>1950</td>\n",
       "      <td>4</td>\n",
       "      <td>15</td>\n",
       "      <td>1950-04-15</td>\n",
       "      <td>2009-06-27</td>\n",
       "      <td>59.200548</td>\n",
       "      <td>50-60</td>\n",
       "    </tr>\n",
       "    <tr>\n",
       "      <th>1220136</th>\n",
       "      <td>0</td>\n",
       "      <td>1945</td>\n",
       "      <td>6</td>\n",
       "      <td>15</td>\n",
       "      <td>1945-06-15</td>\n",
       "      <td>2008-11-11</td>\n",
       "      <td>63.408624</td>\n",
       "      <td>60-70</td>\n",
       "    </tr>\n",
       "    <tr>\n",
       "      <th>4988172</th>\n",
       "      <td>0</td>\n",
       "      <td>1956</td>\n",
       "      <td>1</td>\n",
       "      <td>15</td>\n",
       "      <td>1956-01-15</td>\n",
       "      <td>2010-07-13</td>\n",
       "      <td>54.491444</td>\n",
       "      <td>50-60</td>\n",
       "    </tr>\n",
       "    <tr>\n",
       "      <th>5677442</th>\n",
       "      <td>1</td>\n",
       "      <td>1963</td>\n",
       "      <td>5</td>\n",
       "      <td>15</td>\n",
       "      <td>1963-05-15</td>\n",
       "      <td>2010-06-03</td>\n",
       "      <td>47.052704</td>\n",
       "      <td>40-50</td>\n",
       "    </tr>\n",
       "  </tbody>\n",
       "</table>\n",
       "<p>37304 rows × 8 columns</p>\n",
       "</div>"
      ],
      "text/plain": [
       "         sex  DoB_Year  DoB_Month  DoB_Day         DoB Date_Attend        age  \\\n",
       "Id                                                                              \n",
       "2144829    0      1939          1       15  1939-01-15  2007-11-16  68.835044   \n",
       "3154285    0      1945          1       15  1945-01-15  2007-07-20  62.507871   \n",
       "1679423    1      1945         11       15  1945-11-15  2009-05-19  63.507187   \n",
       "1172610    1      1941         12       15  1941-12-15  2009-09-23  67.772758   \n",
       "4011532    1      1954          1       15  1954-01-15  2009-10-20  55.761807   \n",
       "...      ...       ...        ...      ...         ...         ...        ...   \n",
       "1137580    1      1957          5       15  1957-05-15  2007-08-14  50.247775   \n",
       "3378384    0      1950          4       15  1950-04-15  2009-06-27  59.200548   \n",
       "1220136    0      1945          6       15  1945-06-15  2008-11-11  63.408624   \n",
       "4988172    0      1956          1       15  1956-01-15  2010-07-13  54.491444   \n",
       "5677442    1      1963          5       15  1963-05-15  2010-06-03  47.052704   \n",
       "\n",
       "        Age_Group  \n",
       "Id                 \n",
       "2144829     60-70  \n",
       "3154285     60-70  \n",
       "1679423     60-70  \n",
       "1172610     60-70  \n",
       "4011532     50-60  \n",
       "...           ...  \n",
       "1137580     50-60  \n",
       "3378384     50-60  \n",
       "1220136     60-70  \n",
       "4988172     50-60  \n",
       "5677442     40-50  \n",
       "\n",
       "[37304 rows x 8 columns]"
      ]
     },
     "execution_count": 4,
     "metadata": {},
     "output_type": "execute_result"
    }
   ],
   "source": [
    "adata.obs"
   ]
  },
  {
   "cell_type": "code",
   "execution_count": 19,
   "id": "fcffe215",
   "metadata": {},
   "outputs": [
    {
     "name": "stdout",
     "output_type": "stream",
     "text": [
      "[0 1]\n",
      "Total 2 of the cluster labels.\n",
      "sex\n",
      "0    20202\n",
      "1    17102\n",
      "Name: count, dtype: int64\n"
     ]
    }
   ],
   "source": [
    "unique_clusters = adata.obs['sex'].unique()\n",
    "\n",
    "print(unique_clusters)\n",
    "num_clusters = len(unique_clusters)\n",
    "print(f\"Total {num_clusters} of the cluster labels.\")\n",
    "\n",
    "cluster_sizes = adata.obs['sex'].value_counts()\n",
    "print(cluster_sizes)"
   ]
  },
  {
   "cell_type": "code",
   "execution_count": 20,
   "id": "a79748f8",
   "metadata": {},
   "outputs": [
    {
     "name": "stdout",
     "output_type": "stream",
     "text": [
      "['60-70', '50-60', '40-50', '70-80', '30-40']\n",
      "Categories (5, object): ['30-40' < '40-50' < '50-60' < '60-70' < '70-80']\n",
      "Total 5 of the cluster labels.\n",
      "Age_Group\n",
      "60-70    16542\n",
      "50-60    12021\n",
      "40-50     8493\n",
      "70-80      247\n",
      "30-40        1\n",
      "Name: count, dtype: int64\n"
     ]
    }
   ],
   "source": [
    "unique_clusters = adata.obs['Age_Group'].unique()\n",
    "\n",
    "print(unique_clusters)\n",
    "num_clusters = len(unique_clusters)\n",
    "print(f\"Total {num_clusters} of the cluster labels.\")\n",
    "\n",
    "cluster_sizes = adata.obs['Age_Group'].value_counts()\n",
    "print(cluster_sizes)"
   ]
  },
  {
   "cell_type": "code",
   "execution_count": 5,
   "id": "893e5976",
   "metadata": {},
   "outputs": [
    {
     "data": {
      "image/png": "[encoded data removed]",
      "text/plain": [
       "<Figure size 600x400 with 1 Axes>"
      ]
     },
     "metadata": {},
     "output_type": "display_data"
    }
   ],
   "source": [
    "# 绘制目标变量的直方图\n",
    "plt.figure(figsize=(6,4))\n",
    "sns.histplot(adata.obs['age'], kde=True)\n",
    "# plt.title('目标变量分布')\n",
    "# plt.xlabel('目标变量值')\n",
    "# plt.ylabel('频率')\n",
    "plt.show()"
   ]
  },
  {
   "cell_type": "code",
   "execution_count": 11,
   "id": "2feb6c2a",
   "metadata": {},
   "outputs": [
    {
     "data": {
      "image/png": "[encoded data removed]",
      "text/plain": [
       "<Figure size 600x400 with 1 Axes>"
      ]
     },
     "metadata": {},
     "output_type": "display_data"
    }
   ],
   "source": [
    "# 绘制箱线图\n",
    "plt.figure(figsize=(6, 4))\n",
    "sns.boxplot(x=adata.obs['age'])\n",
    "# plt.title('目标变量箱线图')\n",
    "# plt.xlabel('目标变量值')\n",
    "plt.show()"
   ]
  },
  {
   "cell_type": "code",
   "execution_count": 12,
   "id": "db774f2a",
   "metadata": {},
   "outputs": [
    {
     "name": "stdout",
     "output_type": "stream",
     "text": [
      "count    37304.000000\n",
      "mean        57.315124\n",
      "std          8.192266\n",
      "min         39.192334\n",
      "25%         50.830938\n",
      "50%         58.685832\n",
      "75%         64.022587\n",
      "max         70.986995\n",
      "Name: age, dtype: float64\n",
      "标准差: 8.192265664812599\n"
     ]
    }
   ],
   "source": [
    "# 计算基本统计量\n",
    "stats = adata.obs['age'].describe()\n",
    "print(stats)\n",
    "\n",
    "# 检查目标变量的标准差\n",
    "std_dev = adata.obs['age'].std()\n",
    "print(f\"标准差: {std_dev}\")"
   ]
  },
  {
   "cell_type": "code",
   "execution_count": 6,
   "id": "dde23a84",
   "metadata": {},
   "outputs": [],
   "source": [
    "from sklearn.model_selection import train_test_split\n",
    "\n",
    "X_train, X_val = train_test_split(adata.obs, test_size=0.1, random_state=0)"
   ]
  },
  {
   "cell_type": "markdown",
   "id": "1673987e",
   "metadata": {},
   "source": [
    "## Train data"
   ]
  },
  {
   "cell_type": "markdown",
   "id": "e44f50c8",
   "metadata": {},
   "source": [
    "### Analysis for gender data"
   ]
  },
  {
   "cell_type": "code",
   "execution_count": 7,
   "id": "e8c24b54",
   "metadata": {},
   "outputs": [
    {
     "name": "stdout",
     "output_type": "stream",
     "text": [
      "[1 0]\n",
      "Total 2 of the cluster labels.\n",
      "sex\n",
      "0    18177\n",
      "1    15396\n",
      "Name: count, dtype: int64\n"
     ]
    }
   ],
   "source": [
    "unique_clusters = X_train['sex'].unique()\n",
    "\n",
    "print(unique_clusters)\n",
    "num_clusters = len(unique_clusters)\n",
    "print(f\"Total {num_clusters} of the cluster labels.\")\n",
    "\n",
    "cluster_sizes = X_train['sex'].value_counts()\n",
    "print(cluster_sizes)"
   ]
  },
  {
   "cell_type": "markdown",
   "id": "5ea94de2",
   "metadata": {},
   "source": [
    "### Analysis for age cluster data"
   ]
  },
  {
   "cell_type": "code",
   "execution_count": 8,
   "id": "989c9418",
   "metadata": {},
   "outputs": [
    {
     "name": "stdout",
     "output_type": "stream",
     "text": [
      "['60-70', '40-50', '50-60', '70-80', '30-40']\n",
      "Categories (5, object): ['30-40' < '40-50' < '50-60' < '60-70' < '70-80']\n",
      "Total 5 of the cluster labels.\n",
      "Age_Group\n",
      "60-70    14914\n",
      "50-60    10790\n",
      "40-50     7641\n",
      "70-80      227\n",
      "30-40        1\n",
      "Name: count, dtype: int64\n"
     ]
    }
   ],
   "source": [
    "unique_clusters = X_train['Age_Group'].unique()\n",
    "\n",
    "print(unique_clusters)\n",
    "num_clusters = len(unique_clusters)\n",
    "print(f\"Total {num_clusters} of the cluster labels.\")\n",
    "\n",
    "cluster_sizes = X_train['Age_Group'].value_counts()\n",
    "print(cluster_sizes)"
   ]
  },
  {
   "cell_type": "markdown",
   "id": "43f8fa61",
   "metadata": {},
   "source": [
    "## Val data"
   ]
  },
  {
   "cell_type": "markdown",
   "id": "d5770095",
   "metadata": {},
   "source": [
    "### Analysis for gender data"
   ]
  },
  {
   "cell_type": "code",
   "execution_count": 9,
   "id": "7d9e9400",
   "metadata": {},
   "outputs": [
    {
     "name": "stdout",
     "output_type": "stream",
     "text": [
      "[1 0]\n",
      "Total 2 of the cluster labels.\n",
      "sex\n",
      "0    2025\n",
      "1    1706\n",
      "Name: count, dtype: int64\n"
     ]
    }
   ],
   "source": [
    "unique_clusters = X_val['sex'].unique()\n",
    "\n",
    "print(unique_clusters)\n",
    "num_clusters = len(unique_clusters)\n",
    "print(f\"Total {num_clusters} of the cluster labels.\")\n",
    "\n",
    "cluster_sizes = X_val['sex'].value_counts()\n",
    "print(cluster_sizes)"
   ]
  },
  {
   "cell_type": "markdown",
   "id": "1bf7eb31",
   "metadata": {},
   "source": [
    "### Analysis for age cluster data"
   ]
  },
  {
   "cell_type": "code",
   "execution_count": 10,
   "id": "cf6ff1f9",
   "metadata": {},
   "outputs": [
    {
     "name": "stdout",
     "output_type": "stream",
     "text": [
      "['60-70', '50-60', '40-50', '70-80']\n",
      "Categories (5, object): ['30-40' < '40-50' < '50-60' < '60-70' < '70-80']\n",
      "Total 4 of the cluster labels.\n",
      "Age_Group\n",
      "60-70    1628\n",
      "50-60    1231\n",
      "40-50     852\n",
      "70-80      20\n",
      "30-40       0\n",
      "Name: count, dtype: int64\n"
     ]
    }
   ],
   "source": [
    "unique_clusters = X_val['Age_Group'].unique()\n",
    "\n",
    "print(unique_clusters)\n",
    "num_clusters = len(unique_clusters)\n",
    "print(f\"Total {num_clusters} of the cluster labels.\")\n",
    "\n",
    "cluster_sizes = X_val['Age_Group'].value_counts()\n",
    "print(cluster_sizes)"
   ]
  },
  {
   "cell_type": "markdown",
   "id": "1a13ef5f-2d3f-4750-8d81-d2825ce75780",
   "metadata": {},
   "source": [
    "## Test data"
   ]
  },
  {
   "cell_type": "code",
   "execution_count": 9,
   "id": "ae7d5396",
   "metadata": {},
   "outputs": [
    {
     "data": {
      "image/png": "[encoded data removed]",
      "text/plain": [
       "<Figure size 600x400 with 1 Axes>"
      ]
     },
     "metadata": {},
     "output_type": "display_data"
    }
   ],
   "source": [
    "# 绘制目标变量的直方图\n",
    "plt.figure(figsize=(6,4))\n",
    "sns.histplot(adata_test.obs['age'], kde=True)\n",
    "# plt.title('目标变量分布')\n",
    "# plt.xlabel('目标变量值')\n",
    "# plt.ylabel('频率')\n",
    "plt.show()"
   ]
  },
  {
   "cell_type": "code",
   "execution_count": 11,
   "id": "fef38c1f",
   "metadata": {},
   "outputs": [
    {
     "data": {
      "image/png": "[encoded data removed]",
      "text/plain": [
       "<Figure size 600x400 with 1 Axes>"
      ]
     },
     "metadata": {},
     "output_type": "display_data"
    }
   ],
   "source": [
    "# 绘制箱线图\n",
    "plt.figure(figsize=(6, 4))\n",
    "sns.boxplot(x=adata_test.obs['age'])\n",
    "# plt.title('目标变量箱线图')\n",
    "# plt.xlabel('目标变量值')\n",
    "plt.show()"
   ]
  },
  {
   "cell_type": "code",
   "execution_count": 12,
   "id": "c8a874f5",
   "metadata": {},
   "outputs": [
    {
     "name": "stdout",
     "output_type": "stream",
     "text": [
      "count    4145.000000\n",
      "mean       57.370906\n",
      "std         8.114575\n",
      "min        40.194387\n",
      "25%        50.806297\n",
      "50%        58.757016\n",
      "75%        64.136893\n",
      "max        70.340862\n",
      "Name: age, dtype: float64\n",
      "标准差: 8.114575322459928\n"
     ]
    }
   ],
   "source": [
    "# 计算基本统计量\n",
    "stats = adata_test.obs['age'].describe()\n",
    "print(stats)\n",
    "\n",
    "# 检查目标变量的标准差\n",
    "std_dev = adata_test.obs['age'].std()\n",
    "print(f\"标准差: {std_dev}\")"
   ]
  },
  {
   "cell_type": "markdown",
   "id": "25db8463",
   "metadata": {},
   "source": [
    "### Analysis for gender data"
   ]
  },
  {
   "cell_type": "code",
   "execution_count": 17,
   "id": "fa5376dd",
   "metadata": {},
   "outputs": [
    {
     "name": "stdout",
     "output_type": "stream",
     "text": [
      "[0 1]\n",
      "Total 2 of the cluster labels.\n",
      "sex\n",
      "0    2214\n",
      "1    1931\n",
      "Name: count, dtype: int64\n"
     ]
    }
   ],
   "source": [
    "unique_clusters = adata_test.obs['sex'].unique()\n",
    "\n",
    "print(unique_clusters)\n",
    "num_clusters = len(unique_clusters)\n",
    "print(f\"Total {num_clusters} of the cluster labels.\")\n",
    "\n",
    "cluster_sizes = adata_test.obs['sex'].value_counts()\n",
    "print(cluster_sizes)"
   ]
  },
  {
   "cell_type": "markdown",
   "id": "60dea9cc",
   "metadata": {},
   "source": [
    "### Analysis for age data"
   ]
  },
  {
   "cell_type": "code",
   "execution_count": 18,
   "id": "748b9c70",
   "metadata": {},
   "outputs": [
    {
     "name": "stdout",
     "output_type": "stream",
     "text": [
      "['60-70', '50-60', '40-50', '70-80']\n",
      "Categories (5, object): ['30-40' < '40-50' < '50-60' < '60-70' < '70-80']\n",
      "Total 4 of the cluster labels.\n",
      "Age_Group\n",
      "60-70    1858\n",
      "50-60    1329\n",
      "40-50     942\n",
      "70-80      16\n",
      "30-40       0\n",
      "Name: count, dtype: int64\n"
     ]
    }
   ],
   "source": [
    "unique_clusters = adata_test.obs['Age_Group'].unique()\n",
    "\n",
    "print(unique_clusters)\n",
    "num_clusters = len(unique_clusters)\n",
    "print(f\"Total {num_clusters} of the cluster labels.\")\n",
    "\n",
    "cluster_sizes = adata_test.obs['Age_Group'].value_counts()\n",
    "print(cluster_sizes)"
   ]
  },
  {
   "cell_type": "code",
   "execution_count": null,
   "id": "61f19baf",
   "metadata": {},
   "outputs": [],
   "source": []
  }
 ],
 "metadata": {
  "kernelspec": {
   "display_name": "scgpt",
   "language": "python",
   "name": "python3"
  },
  "language_info": {
   "codemirror_mode": {
    "name": "ipython",
    "version": 3
   },
   "file_extension": ".py",
   "mimetype": "text/x-python",
   "name": "python",
   "nbconvert_exporter": "python",
   "pygments_lexer": "ipython3",
   "version": "3.9.19"
  }
 },
 "nbformat": 4,
 "nbformat_minor": 5
}
